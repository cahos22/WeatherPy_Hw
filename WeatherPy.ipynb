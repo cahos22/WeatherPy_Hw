{
 "cells": [
  {
   "cell_type": "markdown",
   "metadata": {},
   "source": [
    "Unit 6 | Assignment - What's the Weather Like?\n",
    "Background\n",
    "Whether financial, political, or social -- data's true power lies in its ability to answer questions definitively. So let's take what you've learned about Python requests, APIs, and JSON traversals to answer a fundamental question: \"What's the weather like as we approach the equator?\"\n",
    "\n",
    "Now, we know what you may be thinking: \"Duh. It gets hotter...\"\n",
    "\n",
    "But, if pressed, how would you prove it?\n",
    "\n",
    "Equator\n",
    "WeatherPy\n",
    "In this example, you'll be creating a Python script to visualize the weather of 500+ cities across the world of varying distance from the equator. To accomplish this, you'll be utilizing a simple Python library, the OpenWeatherMap API, and a little common sense to create a representative model of weather across world cities.\n",
    "\n",
    "Your objective is to build a series of scatter plots to showcase the following relationships:\n",
    "\n",
    "1. Temperature (F) vs. Latitude\n",
    "2. Humidity (%) vs. Latitude\n",
    "3. Cloudiness (%) vs. Latitude\n",
    "4. Wind Speed (mph) vs. Latitude\n",
    "\n",
    "\n",
    "Your final notebook must:\n",
    "\n",
    "Randomly select at least 500 unique (non-repeat) cities based on latitude and longitude.\n",
    "Perform a weather check on each of the cities using a series of successive API calls.\n",
    "Include a print log of each city as it's being processed with the city number, city name, and requested URL.\n",
    "Save both a CSV of all data retrieved and png images for each scatter plot.\n",
    "As final considerations:\n",
    "\n",
    "You must use the Matplotlib and Seaborn libraries.\n",
    "You must include a written description of three observable trends based on the data.\n",
    "You must use proper labeling of your plots, including aspects like: Plot Titles (with date of analysis) and Axes Labels.\n",
    "You must include an exported markdown version of your Notebook called  README.md in your GitHub repository.\n",
    "See Example Solution for a reference on expected format.\n",
    "Hints and Considerations\n",
    "You may want to start this assignment by refreshing yourself on 4th grade geography, in particular, the geographic coordinate system.\n",
    "\n",
    "Next, spend the requisite time necessary to study the OpenWeatherMap API. Based on your initial study, you should be able to answer basic questions about the API: Where do you request the API key? Which Weather API in particular will you need? What URL endpoints does it expect? What JSON structure does it respond with? Before you write a line of code, you should be aiming to have a crystal clear understanding of your intended outcome.\n",
    "\n",
    "Though we've never worked with the citipy Python library, push yourself to decipher how it works, and why it might be relevant. Before you try to incorporate the library into your analysis, start by creating simple test cases outside your main script to confirm that you are using it correctly. Too often, when introduced to a new library, students get bogged down by the most minor of errors -- spending hours investigating their entire code -- when, in fact, a simple and focused test would have shown their basic utilization of the library was wrong from the start. Don't let this be you!\n",
    "\n",
    "Part of our expectation in this challenge is that you will use critical thinking skills to understand how and why we're recommending the tools we are. What is Citipy for? Why would you use it in conjunction with the OpenWeatherMap API? How would you do so?\n",
    "\n",
    "In building your script, pay attention to the cities you are using in your query pool. Are you getting coverage of the full gamut of latitudes and longitudes? Or are you simply choosing 500 cities concentrated in one region of the world? Even if you were a geographic genius, simply rattling 500 cities based on your human selection would create a biased dataset. Be thinking of how you should counter this. (Hint: Consider the full range of latitudes).\n",
    "\n",
    "Lastly, remember -- this is a challenging activity. Push yourself! If you complete this task, then you can safely say that you've gained a strong mastery of the core foundations of data analytics and it will only go better from here. Good luck!"
   ]
  },
  {
   "cell_type": "code",
   "execution_count": 119,
   "metadata": {},
   "outputs": [],
   "source": [
    "import requests\n",
    "import json\n",
    "import citipy\n",
    "import random\n",
    "import pandas as pd\n",
    "from citipy import citipy\n",
    "from localenv import api_key\n",
    "\n",
    "# api.openweathermap.org/data/2.5/find?q=London"
   ]
  },
  {
   "cell_type": "code",
   "execution_count": 120,
   "metadata": {},
   "outputs": [],
   "source": [
    "sample_size = 10\n",
    "lat = 0\n",
    "long = 0\n",
    "cities = []\n",
    "\n",
    "for i in range(sample_size):\n",
    "    lat=round(random.uniform(-90, 90),2)\n",
    "    long=round(random.uniform(-180, 180),2)\n",
    "    cities.append(citipy.nearest_city(lat, long))\n",
    "    "
   ]
  },
  {
   "cell_type": "code",
   "execution_count": 121,
   "metadata": {},
   "outputs": [],
   "source": [
    "base_url = \"http://api.openweathermap.org/data/2.5/weather?\"\n",
    "\n",
    "params = {\"appid\": api_key,\n",
    "          \"q\": \"\",\n",
    "          \"units\":\"imperial\"}"
   ]
  },
  {
   "cell_type": "code",
   "execution_count": 140,
   "metadata": {},
   "outputs": [
    {
     "name": "stdout",
     "output_type": "stream",
     "text": [
      "Processing Record 1 of 10 | ushuaia\n",
      "http://api.openweathermap.org/data/2.5/weather?appid=e23b8b0de428efa9ed43081cb6f04a77&units=imperial&q=ushuaia\n",
      "Processing Record 2 of 10 | albany\n",
      "http://api.openweathermap.org/data/2.5/weather?appid=e23b8b0de428efa9ed43081cb6f04a77&units=imperial&q=albany\n",
      "Processing Record 3 of 10 | mataura\n",
      "http://api.openweathermap.org/data/2.5/weather?appid=e23b8b0de428efa9ed43081cb6f04a77&units=imperial&q=mataura\n",
      "Processing Record 4 of 10 | arraial do cabo\n",
      "http://api.openweathermap.org/data/2.5/weather?appid=e23b8b0de428efa9ed43081cb6f04a77&units=imperial&q=arraial do cabo\n",
      "Processing Record 5 of 10 | bluff\n",
      "http://api.openweathermap.org/data/2.5/weather?appid=e23b8b0de428efa9ed43081cb6f04a77&units=imperial&q=bluff\n",
      "Processing Record 6 of 10 | punta arenas\n",
      "http://api.openweathermap.org/data/2.5/weather?appid=e23b8b0de428efa9ed43081cb6f04a77&units=imperial&q=punta arenas\n",
      "Processing Record 7 of 10 | ahipara\n",
      "http://api.openweathermap.org/data/2.5/weather?appid=e23b8b0de428efa9ed43081cb6f04a77&units=imperial&q=ahipara\n",
      "Processing Record 8 of 10 | atuona\n",
      "http://api.openweathermap.org/data/2.5/weather?appid=e23b8b0de428efa9ed43081cb6f04a77&units=imperial&q=atuona\n",
      "Processing Record 9 of 10 | illoqqortoormiut\n",
      "http://api.openweathermap.org/data/2.5/weather?appid=e23b8b0de428efa9ed43081cb6f04a77&units=imperial&q=illoqqortoormiut\n",
      "Processing Record 10 of 10 | tongliao\n",
      "http://api.openweathermap.org/data/2.5/weather?appid=e23b8b0de428efa9ed43081cb6f04a77&units=imperial&q=tongliao\n",
      "10\n"
     ]
    },
    {
     "data": {
      "text/plain": [
       "1519952400"
      ]
     },
     "execution_count": 140,
     "metadata": {},
     "output_type": "execute_result"
    }
   ],
   "source": [
    "weather_json_l = []\n",
    "counter = 0\n",
    "for city in cities:\n",
    "    counter += 1\n",
    "    params[\"q\"] = city.city_name\n",
    "    target_url= f\"{base_url}appid={api_key}&units=imperial&q={city.city_name}\"\n",
    "    print(f\"Processing Record {counter} of {sample_size} | {city.city_name}\")\n",
    "    print(target_url)\n",
    "    response = requests.get(target_url).json()\n",
    "    #response = requests.get(base_url,params=params).json()\n",
    "    try:\n",
    "        if (response):\n",
    "            weather_json_l.append(response)\n",
    "    except Exception as e:\n",
    "        print(e)\n",
    "        \n",
    "print(len(weather_json_l))\n",
    "weather_json_l[0]\n",
    "weather_json_l[0][\"dt\"]"
   ]
  },
  {
   "cell_type": "code",
   "execution_count": 139,
   "metadata": {},
   "outputs": [
    {
     "ename": "AttributeError",
     "evalue": "'NoneType' object has no attribute 'get'",
     "output_type": "error",
     "traceback": [
      "\u001b[1;31m---------------------------------------------------------------------------\u001b[0m",
      "\u001b[1;31mAttributeError\u001b[0m                            Traceback (most recent call last)",
      "\u001b[1;32m<ipython-input-139-784835149c55>\u001b[0m in \u001b[0;36m<module>\u001b[1;34m()\u001b[0m\n\u001b[0;32m      1\u001b[0m \u001b[1;31m# Extract interesting data from responses\u001b[0m\u001b[1;33m\u001b[0m\u001b[1;33m\u001b[0m\u001b[0m\n\u001b[0;32m      2\u001b[0m \u001b[0mcity_names\u001b[0m \u001b[1;33m=\u001b[0m \u001b[1;33m[\u001b[0m\u001b[0mdata\u001b[0m\u001b[1;33m.\u001b[0m\u001b[0mget\u001b[0m\u001b[1;33m(\u001b[0m\u001b[1;34m\"name\"\u001b[0m\u001b[1;33m)\u001b[0m \u001b[1;32mfor\u001b[0m \u001b[0mdata\u001b[0m \u001b[1;32min\u001b[0m \u001b[0mweather_json_l\u001b[0m\u001b[1;33m]\u001b[0m\u001b[1;33m\u001b[0m\u001b[0m\n\u001b[1;32m----> 3\u001b[1;33m \u001b[0mcountry_data\u001b[0m \u001b[1;33m=\u001b[0m \u001b[1;33m[\u001b[0m\u001b[0mdata\u001b[0m\u001b[1;33m.\u001b[0m\u001b[0mget\u001b[0m\u001b[1;33m(\u001b[0m\u001b[1;34m\"sys\"\u001b[0m\u001b[1;33m)\u001b[0m\u001b[1;33m.\u001b[0m\u001b[0mget\u001b[0m\u001b[1;33m(\u001b[0m\u001b[1;34m\"country\"\u001b[0m\u001b[1;33m,\u001b[0m\u001b[1;34m\"No Name\"\u001b[0m\u001b[1;33m)\u001b[0m \u001b[1;32mfor\u001b[0m \u001b[0mdata\u001b[0m \u001b[1;32min\u001b[0m \u001b[0mweather_json_l\u001b[0m\u001b[1;33m]\u001b[0m\u001b[1;33m\u001b[0m\u001b[0m\n\u001b[0m\u001b[0;32m      4\u001b[0m \u001b[0mdate_data\u001b[0m \u001b[1;33m=\u001b[0m \u001b[1;33m[\u001b[0m\u001b[0mdata\u001b[0m\u001b[1;33m.\u001b[0m\u001b[0mget\u001b[0m\u001b[1;33m(\u001b[0m\u001b[1;34m\"dt\"\u001b[0m\u001b[1;33m,\u001b[0m\u001b[1;34m\"Not Found\"\u001b[0m\u001b[1;33m)\u001b[0m \u001b[1;32mfor\u001b[0m \u001b[0mdata\u001b[0m \u001b[1;32min\u001b[0m \u001b[0mweather_json_l\u001b[0m\u001b[1;33m]\u001b[0m\u001b[1;33m\u001b[0m\u001b[0m\n\u001b[0;32m      5\u001b[0m \u001b[0mlat_data\u001b[0m \u001b[1;33m=\u001b[0m \u001b[1;33m[\u001b[0m\u001b[0mdata\u001b[0m\u001b[1;33m.\u001b[0m\u001b[0mget\u001b[0m\u001b[1;33m(\u001b[0m\u001b[1;34m\"coord\"\u001b[0m\u001b[1;33m,\u001b[0m \u001b[1;34m\"Not Found\"\u001b[0m\u001b[1;33m)\u001b[0m\u001b[1;33m.\u001b[0m\u001b[0mget\u001b[0m\u001b[1;33m(\u001b[0m\u001b[1;34m\"lat\"\u001b[0m\u001b[1;33m,\u001b[0m \u001b[1;34m\"Not Found\"\u001b[0m\u001b[1;33m)\u001b[0m \u001b[1;32mfor\u001b[0m \u001b[0mdata\u001b[0m \u001b[1;32min\u001b[0m \u001b[0mweather_json_l\u001b[0m\u001b[1;33m]\u001b[0m\u001b[1;33m\u001b[0m\u001b[0m\n",
      "\u001b[1;32m<ipython-input-139-784835149c55>\u001b[0m in \u001b[0;36m<listcomp>\u001b[1;34m(.0)\u001b[0m\n\u001b[0;32m      1\u001b[0m \u001b[1;31m# Extract interesting data from responses\u001b[0m\u001b[1;33m\u001b[0m\u001b[1;33m\u001b[0m\u001b[0m\n\u001b[0;32m      2\u001b[0m \u001b[0mcity_names\u001b[0m \u001b[1;33m=\u001b[0m \u001b[1;33m[\u001b[0m\u001b[0mdata\u001b[0m\u001b[1;33m.\u001b[0m\u001b[0mget\u001b[0m\u001b[1;33m(\u001b[0m\u001b[1;34m\"name\"\u001b[0m\u001b[1;33m)\u001b[0m \u001b[1;32mfor\u001b[0m \u001b[0mdata\u001b[0m \u001b[1;32min\u001b[0m \u001b[0mweather_json_l\u001b[0m\u001b[1;33m]\u001b[0m\u001b[1;33m\u001b[0m\u001b[0m\n\u001b[1;32m----> 3\u001b[1;33m \u001b[0mcountry_data\u001b[0m \u001b[1;33m=\u001b[0m \u001b[1;33m[\u001b[0m\u001b[0mdata\u001b[0m\u001b[1;33m.\u001b[0m\u001b[0mget\u001b[0m\u001b[1;33m(\u001b[0m\u001b[1;34m\"sys\"\u001b[0m\u001b[1;33m)\u001b[0m\u001b[1;33m.\u001b[0m\u001b[0mget\u001b[0m\u001b[1;33m(\u001b[0m\u001b[1;34m\"country\"\u001b[0m\u001b[1;33m,\u001b[0m\u001b[1;34m\"No Name\"\u001b[0m\u001b[1;33m)\u001b[0m \u001b[1;32mfor\u001b[0m \u001b[0mdata\u001b[0m \u001b[1;32min\u001b[0m \u001b[0mweather_json_l\u001b[0m\u001b[1;33m]\u001b[0m\u001b[1;33m\u001b[0m\u001b[0m\n\u001b[0m\u001b[0;32m      4\u001b[0m \u001b[0mdate_data\u001b[0m \u001b[1;33m=\u001b[0m \u001b[1;33m[\u001b[0m\u001b[0mdata\u001b[0m\u001b[1;33m.\u001b[0m\u001b[0mget\u001b[0m\u001b[1;33m(\u001b[0m\u001b[1;34m\"dt\"\u001b[0m\u001b[1;33m,\u001b[0m\u001b[1;34m\"Not Found\"\u001b[0m\u001b[1;33m)\u001b[0m \u001b[1;32mfor\u001b[0m \u001b[0mdata\u001b[0m \u001b[1;32min\u001b[0m \u001b[0mweather_json_l\u001b[0m\u001b[1;33m]\u001b[0m\u001b[1;33m\u001b[0m\u001b[0m\n\u001b[0;32m      5\u001b[0m \u001b[0mlat_data\u001b[0m \u001b[1;33m=\u001b[0m \u001b[1;33m[\u001b[0m\u001b[0mdata\u001b[0m\u001b[1;33m.\u001b[0m\u001b[0mget\u001b[0m\u001b[1;33m(\u001b[0m\u001b[1;34m\"coord\"\u001b[0m\u001b[1;33m,\u001b[0m \u001b[1;34m\"Not Found\"\u001b[0m\u001b[1;33m)\u001b[0m\u001b[1;33m.\u001b[0m\u001b[0mget\u001b[0m\u001b[1;33m(\u001b[0m\u001b[1;34m\"lat\"\u001b[0m\u001b[1;33m,\u001b[0m \u001b[1;34m\"Not Found\"\u001b[0m\u001b[1;33m)\u001b[0m \u001b[1;32mfor\u001b[0m \u001b[0mdata\u001b[0m \u001b[1;32min\u001b[0m \u001b[0mweather_json_l\u001b[0m\u001b[1;33m]\u001b[0m\u001b[1;33m\u001b[0m\u001b[0m\n",
      "\u001b[1;31mAttributeError\u001b[0m: 'NoneType' object has no attribute 'get'"
     ]
    }
   ],
   "source": [
    "# Extract interesting data from responses\n",
    "city_names = [data.get(\"name\") for data in weather_json_l]\n",
    "country_data = [data.get(\"sys\").get(\"country\",\"No Name\") for data in weather_json_l]\n",
    "date_data = [data.get(\"dt\",\"Not Found\") for data in weather_json_l]\n",
    "lat_data = [data.get(\"coord\", \"Not Found\").get(\"lat\", \"Not Found\") for data in weather_json_l]\n",
    "temp_data = [data.get(\"main\",\"Not Found\").get(\"temp_max\", \"Not Found\") for data in weather_json_l]\n",
    "humidity_data =[data.get(\"main\", \"Not Found\").get(\"humidity\", \"Not Found\") for data in weather_json_l]\n",
    "cloudiness_data = [data.get(\"clouds\").get(\"all\", \"Not Found\") for data in weather_json_l]\n",
    "wind_speed_data = [data.get(\"wind\").get(\"speed\", \"Not Found\") for data in weather_json_l]\n",
    "\n",
    "weather_dict = {\"City\":city_names, \"Country\" : country_data,\n",
    "                \"Date\" : date_data, \"Latitude\": lat_data, \n",
    "                \"Temperature (F)\": temp_data, \"Humidity (%)\" : humidity_data,\n",
    "                \"Cloudiness (%)\": temp_data, \"Wind Speed (mph)\" : humidity_data}\n",
    "weather_df = pd.DataFrame(weather_dict)\n",
    "weather_df.head()\n",
    "\n",
    "#Saving to CSV\n",
    "weather_df.to_csv(\"WeatherPyData.csv\",index=False)\n"
   ]
  },
  {
   "cell_type": "code",
   "execution_count": 127,
   "metadata": {},
   "outputs": [
    {
     "data": {
      "image/png": "[encoded data removed]",
      "text/plain": [
       "<matplotlib.figure.Figure at 0xd0a74e0>"
      ]
     },
     "metadata": {},
     "output_type": "display_data"
    }
   ],
   "source": [
    "#Plotting  Temperature vs Latitude\n",
    "ax1 = weather_df.plot(kind=\"scatter\",\n",
    "                x=\"Latitude\", \n",
    "                y=\"Temperature (F)\",\n",
    "                marker=\"o\",\n",
    "                title=\"City Latitude vs. Max Temperature(03/01/18)\",\n",
    "                grid=True\n",
    "               )\n",
    "\n",
    "fig = ax1.get_figure()\n",
    "fig.savefig(\"TemperaturevsLatitude.png\");"
   ]
  },
  {
   "cell_type": "code",
   "execution_count": 91,
   "metadata": {},
   "outputs": [
    {
     "data": {
      "image/png": "[encoded data removed]",
      "text/plain": [
       "<matplotlib.figure.Figure at 0xa6509e8>"
      ]
     },
     "metadata": {},
     "output_type": "display_data"
    }
   ],
   "source": [
    "#Plotting % Humidity vs Latitude\n",
    "ax2 = weather_df.plot(kind=\"scatter\",\n",
    "                x=\"Latitude\", \n",
    "                y=\"Humidity (%)\",\n",
    "                marker=\"o\",\n",
    "                title=\"City Latitude vs. Humidity(03/01/18)\",\n",
    "                grid=True\n",
    "               )\n",
    "\n",
    "fig = ax2.get_figure()\n",
    "fig.savefig(\"HumidityvsLatitude.png\");"
   ]
  },
  {
   "cell_type": "code",
   "execution_count": 92,
   "metadata": {},
   "outputs": [
    {
     "data": {
      "image/png": "[encoded data removed]",
      "text/plain": [
       "<matplotlib.figure.Figure at 0xcd0d710>"
      ]
     },
     "metadata": {},
     "output_type": "display_data"
    }
   ],
   "source": [
    "#Plotting % Cloudiness vs Latitude\n",
    "ax3 = weather_df.plot(kind=\"scatter\",\n",
    "                x=\"Latitude\", \n",
    "                y=\"Cloudiness (%)\",\n",
    "                marker=\"o\",\n",
    "                title=\"City Latitude vs. Cloudiness(03/01/18)\",\n",
    "                grid=True\n",
    "               )\n",
    "\n",
    "fig = ax3.get_figure()\n",
    "fig.savefig(\"CloudinessvsLatitude.png\");"
   ]
  },
  {
   "cell_type": "code",
   "execution_count": 93,
   "metadata": {},
   "outputs": [
    {
     "data": {
      "image/png": "[encoded data removed]",
      "text/plain": [
       "<matplotlib.figure.Figure at 0xcd704a8>"
      ]
     },
     "metadata": {},
     "output_type": "display_data"
    }
   ],
   "source": [
    "#Plotting % Humidity vs Latitude\n",
    "ax4 = weather_df.plot(kind=\"scatter\",\n",
    "                x=\"Latitude\", \n",
    "                y=\"Wind Speed (mph)\",\n",
    "                marker=\"o\",\n",
    "                title=\"City Latitude vs. Wind Speed(03/01/18)\",\n",
    "                grid=True\n",
    "               );\n",
    "\n",
    "fig = ax4.get_figure()\n",
    "fig.savefig(\"WindSpeedvsLatitude.png\");"
   ]
  }
 ],
 "metadata": {
  "kernelspec": {
   "display_name": "Python [PythonData]",
   "language": "python",
   "name": "pythondata"
  },
  "language_info": {
   "codemirror_mode": {
    "name": "ipython",
    "version": 3
   },
   "file_extension": ".py",
   "mimetype": "text/x-python",
   "name": "python",
   "nbconvert_exporter": "python",
   "pygments_lexer": "ipython3",
   "version": "3.6.4"
  }
 },
 "nbformat": 4,
 "nbformat_minor": 2
}
